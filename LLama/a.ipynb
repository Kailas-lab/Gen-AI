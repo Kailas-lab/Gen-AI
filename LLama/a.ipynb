{
 "cells": [
  {
   "cell_type": "code",
   "execution_count": null,
   "metadata": {},
   "outputs": [
    {
     "name": "stdout",
     "output_type": "stream",
     "text": [
      "Requirement already satisfied: accelerate==1.3.0 in c:\\users\\admin\\appdata\\local\\programs\\python\\python310\\lib\\site-packages (from -r requirements.txt (line 1)) (1.3.0)\n",
      "Collecting bitsandbytes==0.45.2 (from -r requirements.txt (line 2))\n",
      "  Downloading bitsandbytes-0.45.2-py3-none-win_amd64.whl.metadata (5.9 kB)\n",
      "Collecting transformers==4.48.3 (from -r requirements.txt (line 3))\n",
      "  Downloading transformers-4.48.3-py3-none-any.whl.metadata (44 kB)\n",
      "Requirement already satisfied: numpy<3.0.0,>=1.17 in c:\\users\\admin\\appdata\\local\\programs\\python\\python310\\lib\\site-packages (from accelerate==1.3.0->-r requirements.txt (line 1)) (1.26.4)\n",
      "Requirement already satisfied: packaging>=20.0 in c:\\users\\admin\\appdata\\roaming\\python\\python310\\site-packages (from accelerate==1.3.0->-r requirements.txt (line 1)) (24.2)\n",
      "Requirement already satisfied: psutil in c:\\users\\admin\\appdata\\roaming\\python\\python310\\site-packages (from accelerate==1.3.0->-r requirements.txt (line 1)) (6.1.1)\n",
      "Requirement already satisfied: pyyaml in c:\\users\\admin\\appdata\\local\\programs\\python\\python310\\lib\\site-packages (from accelerate==1.3.0->-r requirements.txt (line 1)) (6.0.2)\n",
      "Requirement already satisfied: torch>=2.0.0 in c:\\users\\admin\\appdata\\local\\programs\\python\\python310\\lib\\site-packages (from accelerate==1.3.0->-r requirements.txt (line 1)) (2.6.0)\n",
      "Requirement already satisfied: huggingface-hub>=0.21.0 in c:\\users\\admin\\appdata\\local\\programs\\python\\python310\\lib\\site-packages (from accelerate==1.3.0->-r requirements.txt (line 1)) (0.28.0)\n",
      "Requirement already satisfied: safetensors>=0.4.3 in c:\\users\\admin\\appdata\\local\\programs\\python\\python310\\lib\\site-packages (from accelerate==1.3.0->-r requirements.txt (line 1)) (0.5.2)\n",
      "Requirement already satisfied: filelock in c:\\users\\admin\\appdata\\local\\programs\\python\\python310\\lib\\site-packages (from transformers==4.48.3->-r requirements.txt (line 3)) (3.17.0)\n",
      "Requirement already satisfied: regex!=2019.12.17 in c:\\users\\admin\\appdata\\local\\programs\\python\\python310\\lib\\site-packages (from transformers==4.48.3->-r requirements.txt (line 3)) (2024.11.6)\n",
      "Requirement already satisfied: requests in c:\\users\\admin\\appdata\\local\\programs\\python\\python310\\lib\\site-packages (from transformers==4.48.3->-r requirements.txt (line 3)) (2.32.3)\n",
      "Requirement already satisfied: tokenizers<0.22,>=0.21 in c:\\users\\admin\\appdata\\local\\programs\\python\\python310\\lib\\site-packages (from transformers==4.48.3->-r requirements.txt (line 3)) (0.21.0)\n",
      "Requirement already satisfied: tqdm>=4.27 in c:\\users\\admin\\appdata\\local\\programs\\python\\python310\\lib\\site-packages (from transformers==4.48.3->-r requirements.txt (line 3)) (4.67.1)\n",
      "Requirement already satisfied: fsspec>=2023.5.0 in c:\\users\\admin\\appdata\\local\\programs\\python\\python310\\lib\\site-packages (from huggingface-hub>=0.21.0->accelerate==1.3.0->-r requirements.txt (line 1)) (2024.12.0)\n",
      "Requirement already satisfied: typing-extensions>=3.7.4.3 in c:\\users\\admin\\appdata\\roaming\\python\\python310\\site-packages (from huggingface-hub>=0.21.0->accelerate==1.3.0->-r requirements.txt (line 1)) (4.12.2)\n",
      "Requirement already satisfied: networkx in c:\\users\\admin\\appdata\\local\\programs\\python\\python310\\lib\\site-packages (from torch>=2.0.0->accelerate==1.3.0->-r requirements.txt (line 1)) (3.4.2)\n",
      "Requirement already satisfied: jinja2 in c:\\users\\admin\\appdata\\local\\programs\\python\\python310\\lib\\site-packages (from torch>=2.0.0->accelerate==1.3.0->-r requirements.txt (line 1)) (3.1.5)\n",
      "Requirement already satisfied: sympy==1.13.1 in c:\\users\\admin\\appdata\\local\\programs\\python\\python310\\lib\\site-packages (from torch>=2.0.0->accelerate==1.3.0->-r requirements.txt (line 1)) (1.13.1)\n",
      "Requirement already satisfied: mpmath<1.4,>=1.1.0 in c:\\users\\admin\\appdata\\local\\programs\\python\\python310\\lib\\site-packages (from sympy==1.13.1->torch>=2.0.0->accelerate==1.3.0->-r requirements.txt (line 1)) (1.3.0)\n",
      "Requirement already satisfied: colorama in c:\\users\\admin\\appdata\\roaming\\python\\python310\\site-packages (from tqdm>=4.27->transformers==4.48.3->-r requirements.txt (line 3)) (0.4.6)\n",
      "Requirement already satisfied: charset-normalizer<4,>=2 in c:\\users\\admin\\appdata\\local\\programs\\python\\python310\\lib\\site-packages (from requests->transformers==4.48.3->-r requirements.txt (line 3)) (3.4.1)\n",
      "Requirement already satisfied: idna<4,>=2.5 in c:\\users\\admin\\appdata\\local\\programs\\python\\python310\\lib\\site-packages (from requests->transformers==4.48.3->-r requirements.txt (line 3)) (3.10)\n",
      "Requirement already satisfied: urllib3<3,>=1.21.1 in c:\\users\\admin\\appdata\\local\\programs\\python\\python310\\lib\\site-packages (from requests->transformers==4.48.3->-r requirements.txt (line 3)) (2.3.0)\n",
      "Requirement already satisfied: certifi>=2017.4.17 in c:\\users\\admin\\appdata\\local\\programs\\python\\python310\\lib\\site-packages (from requests->transformers==4.48.3->-r requirements.txt (line 3)) (2024.12.14)\n",
      "Requirement already satisfied: MarkupSafe>=2.0 in c:\\users\\admin\\appdata\\local\\programs\\python\\python310\\lib\\site-packages (from jinja2->torch>=2.0.0->accelerate==1.3.0->-r requirements.txt (line 1)) (3.0.2)\n",
      "Downloading bitsandbytes-0.45.2-py3-none-win_amd64.whl (69.1 MB)\n",
      "   ---------------------------------------- 0.0/69.1 MB ? eta -:--:--\n",
      "   ---------------------------------------- 0.5/69.1 MB 5.6 MB/s eta 0:00:13\n",
      "   --- ------------------------------------ 6.0/69.1 MB 19.4 MB/s eta 0:00:04\n",
      "   --------- ------------------------------ 16.3/69.1 MB 34.2 MB/s eta 0:00:02\n",
      "   --------- ------------------------------ 16.5/69.1 MB 24.2 MB/s eta 0:00:03\n",
      "   ------------ --------------------------- 21.8/69.1 MB 23.3 MB/s eta 0:00:03\n",
      "   ---------------- ----------------------- 27.8/69.1 MB 24.5 MB/s eta 0:00:02\n",
      "   ------------------- -------------------- 33.3/69.1 MB 26.1 MB/s eta 0:00:02\n",
      "   ------------------- -------------------- 33.8/69.1 MB 22.4 MB/s eta 0:00:02\n",
      "   --------------------- ------------------ 38.0/69.1 MB 22.0 MB/s eta 0:00:02\n",
      "   ------------------------ --------------- 41.7/69.1 MB 21.7 MB/s eta 0:00:02\n",
      "   --------------------------- ------------ 46.7/69.1 MB 21.5 MB/s eta 0:00:02\n",
      "   -------------------------------- ------- 55.6/69.1 MB 23.4 MB/s eta 0:00:01\n",
      "   ------------------------------------- -- 64.2/69.1 MB 24.7 MB/s eta 0:00:01\n",
      "   -------------------------------------- - 67.4/69.1 MB 24.3 MB/s eta 0:00:01\n",
      "   ---------------------------------------  68.9/69.1 MB 23.8 MB/s eta 0:00:01\n",
      "   ---------------------------------------- 69.1/69.1 MB 21.8 MB/s eta 0:00:00\n",
      "Downloading transformers-4.48.3-py3-none-any.whl (9.7 MB)\n",
      "   ---------------------------------------- 0.0/9.7 MB ? eta -:--:--\n",
      "   ---------------------------------------- 9.7/9.7 MB 46.1 MB/s eta 0:00:00\n",
      "Installing collected packages: bitsandbytes, transformers\n",
      "  Attempting uninstall: transformers\n",
      "    Found existing installation: transformers 4.48.1\n",
      "    Uninstalling transformers-4.48.1:\n",
      "      Successfully uninstalled transformers-4.48.1\n",
      "Successfully installed bitsandbytes-0.45.2 transformers-4.48.3\n"
     ]
    },
    {
     "name": "stderr",
     "output_type": "stream",
     "text": [
      "\n",
      "[notice] A new release of pip is available: 24.3.1 -> 25.0\n",
      "[notice] To update, run: python.exe -m pip install --upgrade pip\n"
     ]
    },
    {
     "ename": "",
     "evalue": "",
     "output_type": "error",
     "traceback": [
      "\u001b[1;31mThe Kernel crashed while executing code in the current cell or a previous cell. \n",
      "\u001b[1;31mPlease review the code in the cell(s) to identify a possible cause of the failure. \n",
      "\u001b[1;31mClick <a href='https://aka.ms/vscodeJupyterKernelCrash'>here</a> for more info. \n",
      "\u001b[1;31mView Jupyter <a href='command:jupyter.viewOutput'>log</a> for further details."
     ]
    }
   ],
   "source": [
    "! pip install -r requirements.txt"
   ]
  },
  {
   "cell_type": "markdown",
   "metadata": {},
   "source": [
    "[LLAMA 3 Model](https://huggingface.co/meta-llama/Llama-3.1-8B)"
   ]
  },
  {
   "cell_type": "markdown",
   "metadata": {},
   "source": [
    "import torch - PyTorch library for handling tensor computations and running the model on CPU/GPU.\n",
    " \n",
    "    AutoTokenizer-Loads the tokenizer for the LLaMA model, converting text to tokenized input.  \n",
    "    AutoModelForCausalLM-Loads the pre-trained LLaMA model for text generation.  \n",
    "    BitsAndBytesConfig-Enables model quantization (like 4-bit or 8-bit) to save memory and improve inference speed.  \n",
    "    pipeline-Creates an easy-to-use inference pipeline for generating text with the model.  "
   ]
  },
  {
   "cell_type": "code",
   "execution_count": null,
   "metadata": {},
   "outputs": [],
   "source": [
    "import json\n",
    "import torch\n",
    "from transformers import (AutoTokenizer, \n",
    "                          AutoModelForCausalLM,\n",
    "                          BitsAndBytesConfig,\n",
    "                          pipeline)"
   ]
  }
 ],
 "metadata": {
  "kernelspec": {
   "display_name": "Python 3",
   "language": "python",
   "name": "python3"
  },
  "language_info": {
   "codemirror_mode": {
    "name": "ipython",
    "version": 3
   },
   "file_extension": ".py",
   "mimetype": "text/x-python",
   "name": "python",
   "nbconvert_exporter": "python",
   "pygments_lexer": "ipython3",
   "version": "3.10.0"
  }
 },
 "nbformat": 4,
 "nbformat_minor": 2
}
